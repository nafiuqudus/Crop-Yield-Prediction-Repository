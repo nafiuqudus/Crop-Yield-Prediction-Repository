{
 "cells": [
  {
   "cell_type": "code",
   "execution_count": 1,
   "id": "7de200d5",
   "metadata": {},
   "outputs": [],
   "source": [
    "import pandas as pd\n",
    "import numpy as np\n",
    "import matplotlib.pyplot as plt\n",
    "import seaborn as sns\n",
    "plt.style.use('ggplot')"
   ]
  },
  {
   "cell_type": "code",
   "execution_count": 2,
   "id": "6ece33b8",
   "metadata": {},
   "outputs": [
    {
     "data": {
      "text/plain": [
       "(28242, 8)"
      ]
     },
     "execution_count": 2,
     "metadata": {},
     "output_type": "execute_result"
    }
   ],
   "source": [
    "df = pd.read_csv('yield_df.csv')\n",
    "df.head(120)\n",
    "df.shape"
   ]
  },
  {
   "cell_type": "code",
   "execution_count": 3,
   "id": "e800d26c",
   "metadata": {},
   "outputs": [
    {
     "data": {
      "text/html": [
       "<div>\n",
       "<style scoped>\n",
       "    .dataframe tbody tr th:only-of-type {\n",
       "        vertical-align: middle;\n",
       "    }\n",
       "\n",
       "    .dataframe tbody tr th {\n",
       "        vertical-align: top;\n",
       "    }\n",
       "\n",
       "    .dataframe thead th {\n",
       "        text-align: right;\n",
       "    }\n",
       "</style>\n",
       "<table border=\"1\" class=\"dataframe\">\n",
       "  <thead>\n",
       "    <tr style=\"text-align: right;\">\n",
       "      <th></th>\n",
       "      <th>Unnamed: 0</th>\n",
       "      <th>Area</th>\n",
       "      <th>Item</th>\n",
       "      <th>Year</th>\n",
       "      <th>hg/ha_yield</th>\n",
       "      <th>average_rain_fall_mm_per_year</th>\n",
       "      <th>pesticides_tonnes</th>\n",
       "      <th>avg_temp</th>\n",
       "    </tr>\n",
       "  </thead>\n",
       "  <tbody>\n",
       "    <tr>\n",
       "      <th>0</th>\n",
       "      <td>0</td>\n",
       "      <td>Albania</td>\n",
       "      <td>Maize</td>\n",
       "      <td>1990</td>\n",
       "      <td>36613</td>\n",
       "      <td>1485.0</td>\n",
       "      <td>121.0</td>\n",
       "      <td>16.37</td>\n",
       "    </tr>\n",
       "    <tr>\n",
       "      <th>1</th>\n",
       "      <td>1</td>\n",
       "      <td>Albania</td>\n",
       "      <td>Potatoes</td>\n",
       "      <td>1990</td>\n",
       "      <td>66667</td>\n",
       "      <td>1485.0</td>\n",
       "      <td>121.0</td>\n",
       "      <td>16.37</td>\n",
       "    </tr>\n",
       "    <tr>\n",
       "      <th>2</th>\n",
       "      <td>2</td>\n",
       "      <td>Albania</td>\n",
       "      <td>Rice, paddy</td>\n",
       "      <td>1990</td>\n",
       "      <td>23333</td>\n",
       "      <td>1485.0</td>\n",
       "      <td>121.0</td>\n",
       "      <td>16.37</td>\n",
       "    </tr>\n",
       "    <tr>\n",
       "      <th>3</th>\n",
       "      <td>3</td>\n",
       "      <td>Albania</td>\n",
       "      <td>Sorghum</td>\n",
       "      <td>1990</td>\n",
       "      <td>12500</td>\n",
       "      <td>1485.0</td>\n",
       "      <td>121.0</td>\n",
       "      <td>16.37</td>\n",
       "    </tr>\n",
       "    <tr>\n",
       "      <th>4</th>\n",
       "      <td>4</td>\n",
       "      <td>Albania</td>\n",
       "      <td>Soybeans</td>\n",
       "      <td>1990</td>\n",
       "      <td>7000</td>\n",
       "      <td>1485.0</td>\n",
       "      <td>121.0</td>\n",
       "      <td>16.37</td>\n",
       "    </tr>\n",
       "    <tr>\n",
       "      <th>5</th>\n",
       "      <td>5</td>\n",
       "      <td>Albania</td>\n",
       "      <td>Wheat</td>\n",
       "      <td>1990</td>\n",
       "      <td>30197</td>\n",
       "      <td>1485.0</td>\n",
       "      <td>121.0</td>\n",
       "      <td>16.37</td>\n",
       "    </tr>\n",
       "    <tr>\n",
       "      <th>6</th>\n",
       "      <td>6</td>\n",
       "      <td>Albania</td>\n",
       "      <td>Maize</td>\n",
       "      <td>1991</td>\n",
       "      <td>29068</td>\n",
       "      <td>1485.0</td>\n",
       "      <td>121.0</td>\n",
       "      <td>15.36</td>\n",
       "    </tr>\n",
       "    <tr>\n",
       "      <th>7</th>\n",
       "      <td>7</td>\n",
       "      <td>Albania</td>\n",
       "      <td>Potatoes</td>\n",
       "      <td>1991</td>\n",
       "      <td>77818</td>\n",
       "      <td>1485.0</td>\n",
       "      <td>121.0</td>\n",
       "      <td>15.36</td>\n",
       "    </tr>\n",
       "    <tr>\n",
       "      <th>8</th>\n",
       "      <td>8</td>\n",
       "      <td>Albania</td>\n",
       "      <td>Rice, paddy</td>\n",
       "      <td>1991</td>\n",
       "      <td>28538</td>\n",
       "      <td>1485.0</td>\n",
       "      <td>121.0</td>\n",
       "      <td>15.36</td>\n",
       "    </tr>\n",
       "    <tr>\n",
       "      <th>9</th>\n",
       "      <td>9</td>\n",
       "      <td>Albania</td>\n",
       "      <td>Sorghum</td>\n",
       "      <td>1991</td>\n",
       "      <td>6667</td>\n",
       "      <td>1485.0</td>\n",
       "      <td>121.0</td>\n",
       "      <td>15.36</td>\n",
       "    </tr>\n",
       "    <tr>\n",
       "      <th>10</th>\n",
       "      <td>10</td>\n",
       "      <td>Albania</td>\n",
       "      <td>Soybeans</td>\n",
       "      <td>1991</td>\n",
       "      <td>6066</td>\n",
       "      <td>1485.0</td>\n",
       "      <td>121.0</td>\n",
       "      <td>15.36</td>\n",
       "    </tr>\n",
       "    <tr>\n",
       "      <th>11</th>\n",
       "      <td>11</td>\n",
       "      <td>Albania</td>\n",
       "      <td>Wheat</td>\n",
       "      <td>1991</td>\n",
       "      <td>20698</td>\n",
       "      <td>1485.0</td>\n",
       "      <td>121.0</td>\n",
       "      <td>15.36</td>\n",
       "    </tr>\n",
       "    <tr>\n",
       "      <th>12</th>\n",
       "      <td>12</td>\n",
       "      <td>Albania</td>\n",
       "      <td>Maize</td>\n",
       "      <td>1992</td>\n",
       "      <td>24876</td>\n",
       "      <td>1485.0</td>\n",
       "      <td>121.0</td>\n",
       "      <td>16.06</td>\n",
       "    </tr>\n",
       "    <tr>\n",
       "      <th>13</th>\n",
       "      <td>13</td>\n",
       "      <td>Albania</td>\n",
       "      <td>Potatoes</td>\n",
       "      <td>1992</td>\n",
       "      <td>82920</td>\n",
       "      <td>1485.0</td>\n",
       "      <td>121.0</td>\n",
       "      <td>16.06</td>\n",
       "    </tr>\n",
       "    <tr>\n",
       "      <th>14</th>\n",
       "      <td>14</td>\n",
       "      <td>Albania</td>\n",
       "      <td>Rice, paddy</td>\n",
       "      <td>1992</td>\n",
       "      <td>40000</td>\n",
       "      <td>1485.0</td>\n",
       "      <td>121.0</td>\n",
       "      <td>16.06</td>\n",
       "    </tr>\n",
       "    <tr>\n",
       "      <th>15</th>\n",
       "      <td>15</td>\n",
       "      <td>Albania</td>\n",
       "      <td>Sorghum</td>\n",
       "      <td>1992</td>\n",
       "      <td>3747</td>\n",
       "      <td>1485.0</td>\n",
       "      <td>121.0</td>\n",
       "      <td>16.06</td>\n",
       "    </tr>\n",
       "    <tr>\n",
       "      <th>16</th>\n",
       "      <td>16</td>\n",
       "      <td>Albania</td>\n",
       "      <td>Soybeans</td>\n",
       "      <td>1992</td>\n",
       "      <td>4507</td>\n",
       "      <td>1485.0</td>\n",
       "      <td>121.0</td>\n",
       "      <td>16.06</td>\n",
       "    </tr>\n",
       "    <tr>\n",
       "      <th>17</th>\n",
       "      <td>17</td>\n",
       "      <td>Albania</td>\n",
       "      <td>Wheat</td>\n",
       "      <td>1992</td>\n",
       "      <td>24388</td>\n",
       "      <td>1485.0</td>\n",
       "      <td>121.0</td>\n",
       "      <td>16.06</td>\n",
       "    </tr>\n",
       "    <tr>\n",
       "      <th>18</th>\n",
       "      <td>18</td>\n",
       "      <td>Albania</td>\n",
       "      <td>Maize</td>\n",
       "      <td>1993</td>\n",
       "      <td>24185</td>\n",
       "      <td>1485.0</td>\n",
       "      <td>121.0</td>\n",
       "      <td>16.05</td>\n",
       "    </tr>\n",
       "    <tr>\n",
       "      <th>19</th>\n",
       "      <td>19</td>\n",
       "      <td>Albania</td>\n",
       "      <td>Potatoes</td>\n",
       "      <td>1993</td>\n",
       "      <td>98446</td>\n",
       "      <td>1485.0</td>\n",
       "      <td>121.0</td>\n",
       "      <td>16.05</td>\n",
       "    </tr>\n",
       "  </tbody>\n",
       "</table>\n",
       "</div>"
      ],
      "text/plain": [
       "    Unnamed: 0     Area         Item  Year  hg/ha_yield  \\\n",
       "0            0  Albania        Maize  1990        36613   \n",
       "1            1  Albania     Potatoes  1990        66667   \n",
       "2            2  Albania  Rice, paddy  1990        23333   \n",
       "3            3  Albania      Sorghum  1990        12500   \n",
       "4            4  Albania     Soybeans  1990         7000   \n",
       "5            5  Albania        Wheat  1990        30197   \n",
       "6            6  Albania        Maize  1991        29068   \n",
       "7            7  Albania     Potatoes  1991        77818   \n",
       "8            8  Albania  Rice, paddy  1991        28538   \n",
       "9            9  Albania      Sorghum  1991         6667   \n",
       "10          10  Albania     Soybeans  1991         6066   \n",
       "11          11  Albania        Wheat  1991        20698   \n",
       "12          12  Albania        Maize  1992        24876   \n",
       "13          13  Albania     Potatoes  1992        82920   \n",
       "14          14  Albania  Rice, paddy  1992        40000   \n",
       "15          15  Albania      Sorghum  1992         3747   \n",
       "16          16  Albania     Soybeans  1992         4507   \n",
       "17          17  Albania        Wheat  1992        24388   \n",
       "18          18  Albania        Maize  1993        24185   \n",
       "19          19  Albania     Potatoes  1993        98446   \n",
       "\n",
       "    average_rain_fall_mm_per_year  pesticides_tonnes  avg_temp  \n",
       "0                          1485.0              121.0     16.37  \n",
       "1                          1485.0              121.0     16.37  \n",
       "2                          1485.0              121.0     16.37  \n",
       "3                          1485.0              121.0     16.37  \n",
       "4                          1485.0              121.0     16.37  \n",
       "5                          1485.0              121.0     16.37  \n",
       "6                          1485.0              121.0     15.36  \n",
       "7                          1485.0              121.0     15.36  \n",
       "8                          1485.0              121.0     15.36  \n",
       "9                          1485.0              121.0     15.36  \n",
       "10                         1485.0              121.0     15.36  \n",
       "11                         1485.0              121.0     15.36  \n",
       "12                         1485.0              121.0     16.06  \n",
       "13                         1485.0              121.0     16.06  \n",
       "14                         1485.0              121.0     16.06  \n",
       "15                         1485.0              121.0     16.06  \n",
       "16                         1485.0              121.0     16.06  \n",
       "17                         1485.0              121.0     16.06  \n",
       "18                         1485.0              121.0     16.05  \n",
       "19                         1485.0              121.0     16.05  "
      ]
     },
     "execution_count": 3,
     "metadata": {},
     "output_type": "execute_result"
    }
   ],
   "source": [
    "df.head(20)"
   ]
  },
  {
   "cell_type": "code",
   "execution_count": 4,
   "id": "c5a20c16",
   "metadata": {},
   "outputs": [],
   "source": [
    "df.drop('Unnamed: 0', axis=1, inplace=True)"
   ]
  },
  {
   "cell_type": "code",
   "execution_count": 5,
   "id": "c39eb3be",
   "metadata": {},
   "outputs": [
    {
     "data": {
      "text/html": [
       "<div>\n",
       "<style scoped>\n",
       "    .dataframe tbody tr th:only-of-type {\n",
       "        vertical-align: middle;\n",
       "    }\n",
       "\n",
       "    .dataframe tbody tr th {\n",
       "        vertical-align: top;\n",
       "    }\n",
       "\n",
       "    .dataframe thead th {\n",
       "        text-align: right;\n",
       "    }\n",
       "</style>\n",
       "<table border=\"1\" class=\"dataframe\">\n",
       "  <thead>\n",
       "    <tr style=\"text-align: right;\">\n",
       "      <th></th>\n",
       "      <th>Area</th>\n",
       "      <th>Item</th>\n",
       "      <th>Year</th>\n",
       "      <th>hg/ha_yield</th>\n",
       "      <th>average_rain_fall_mm_per_year</th>\n",
       "      <th>pesticides_tonnes</th>\n",
       "      <th>avg_temp</th>\n",
       "    </tr>\n",
       "  </thead>\n",
       "  <tbody>\n",
       "    <tr>\n",
       "      <th>0</th>\n",
       "      <td>Albania</td>\n",
       "      <td>Maize</td>\n",
       "      <td>1990</td>\n",
       "      <td>36613</td>\n",
       "      <td>1485.0</td>\n",
       "      <td>121.0</td>\n",
       "      <td>16.37</td>\n",
       "    </tr>\n",
       "    <tr>\n",
       "      <th>1</th>\n",
       "      <td>Albania</td>\n",
       "      <td>Potatoes</td>\n",
       "      <td>1990</td>\n",
       "      <td>66667</td>\n",
       "      <td>1485.0</td>\n",
       "      <td>121.0</td>\n",
       "      <td>16.37</td>\n",
       "    </tr>\n",
       "    <tr>\n",
       "      <th>2</th>\n",
       "      <td>Albania</td>\n",
       "      <td>Rice, paddy</td>\n",
       "      <td>1990</td>\n",
       "      <td>23333</td>\n",
       "      <td>1485.0</td>\n",
       "      <td>121.0</td>\n",
       "      <td>16.37</td>\n",
       "    </tr>\n",
       "    <tr>\n",
       "      <th>3</th>\n",
       "      <td>Albania</td>\n",
       "      <td>Sorghum</td>\n",
       "      <td>1990</td>\n",
       "      <td>12500</td>\n",
       "      <td>1485.0</td>\n",
       "      <td>121.0</td>\n",
       "      <td>16.37</td>\n",
       "    </tr>\n",
       "    <tr>\n",
       "      <th>4</th>\n",
       "      <td>Albania</td>\n",
       "      <td>Soybeans</td>\n",
       "      <td>1990</td>\n",
       "      <td>7000</td>\n",
       "      <td>1485.0</td>\n",
       "      <td>121.0</td>\n",
       "      <td>16.37</td>\n",
       "    </tr>\n",
       "  </tbody>\n",
       "</table>\n",
       "</div>"
      ],
      "text/plain": [
       "      Area         Item  Year  hg/ha_yield  average_rain_fall_mm_per_year  \\\n",
       "0  Albania        Maize  1990        36613                         1485.0   \n",
       "1  Albania     Potatoes  1990        66667                         1485.0   \n",
       "2  Albania  Rice, paddy  1990        23333                         1485.0   \n",
       "3  Albania      Sorghum  1990        12500                         1485.0   \n",
       "4  Albania     Soybeans  1990         7000                         1485.0   \n",
       "\n",
       "   pesticides_tonnes  avg_temp  \n",
       "0              121.0     16.37  \n",
       "1              121.0     16.37  \n",
       "2              121.0     16.37  \n",
       "3              121.0     16.37  \n",
       "4              121.0     16.37  "
      ]
     },
     "execution_count": 5,
     "metadata": {},
     "output_type": "execute_result"
    }
   ],
   "source": [
    "df.head()"
   ]
  },
  {
   "cell_type": "code",
   "execution_count": 6,
   "id": "d637b57e",
   "metadata": {},
   "outputs": [
    {
     "data": {
      "text/plain": [
       "np.int64(2310)"
      ]
     },
     "execution_count": 6,
     "metadata": {},
     "output_type": "execute_result"
    }
   ],
   "source": [
    "df.duplicated().sum()"
   ]
  },
  {
   "cell_type": "code",
   "execution_count": 7,
   "id": "11b49248",
   "metadata": {},
   "outputs": [],
   "source": [
    "df.drop_duplicates(inplace=True)"
   ]
  },
  {
   "cell_type": "code",
   "execution_count": 8,
   "id": "f97c850e",
   "metadata": {},
   "outputs": [
    {
     "data": {
      "text/plain": [
       "np.int64(0)"
      ]
     },
     "execution_count": 8,
     "metadata": {},
     "output_type": "execute_result"
    }
   ],
   "source": [
    "df.duplicated().sum()"
   ]
  },
  {
   "cell_type": "code",
   "execution_count": 9,
   "id": "2a287bee",
   "metadata": {},
   "outputs": [
    {
     "data": {
      "text/html": [
       "<div>\n",
       "<style scoped>\n",
       "    .dataframe tbody tr th:only-of-type {\n",
       "        vertical-align: middle;\n",
       "    }\n",
       "\n",
       "    .dataframe tbody tr th {\n",
       "        vertical-align: top;\n",
       "    }\n",
       "\n",
       "    .dataframe thead th {\n",
       "        text-align: right;\n",
       "    }\n",
       "</style>\n",
       "<table border=\"1\" class=\"dataframe\">\n",
       "  <thead>\n",
       "    <tr style=\"text-align: right;\">\n",
       "      <th></th>\n",
       "      <th>Area</th>\n",
       "      <th>Item</th>\n",
       "      <th>Year</th>\n",
       "      <th>hg/ha_yield</th>\n",
       "      <th>average_rain_fall_mm_per_year</th>\n",
       "      <th>pesticides_tonnes</th>\n",
       "      <th>avg_temp</th>\n",
       "    </tr>\n",
       "  </thead>\n",
       "  <tbody>\n",
       "    <tr>\n",
       "      <th>0</th>\n",
       "      <td>Albania</td>\n",
       "      <td>Maize</td>\n",
       "      <td>1990</td>\n",
       "      <td>36613</td>\n",
       "      <td>1485.0</td>\n",
       "      <td>121.0</td>\n",
       "      <td>16.37</td>\n",
       "    </tr>\n",
       "    <tr>\n",
       "      <th>1</th>\n",
       "      <td>Albania</td>\n",
       "      <td>Potatoes</td>\n",
       "      <td>1990</td>\n",
       "      <td>66667</td>\n",
       "      <td>1485.0</td>\n",
       "      <td>121.0</td>\n",
       "      <td>16.37</td>\n",
       "    </tr>\n",
       "    <tr>\n",
       "      <th>2</th>\n",
       "      <td>Albania</td>\n",
       "      <td>Rice, paddy</td>\n",
       "      <td>1990</td>\n",
       "      <td>23333</td>\n",
       "      <td>1485.0</td>\n",
       "      <td>121.0</td>\n",
       "      <td>16.37</td>\n",
       "    </tr>\n",
       "    <tr>\n",
       "      <th>3</th>\n",
       "      <td>Albania</td>\n",
       "      <td>Sorghum</td>\n",
       "      <td>1990</td>\n",
       "      <td>12500</td>\n",
       "      <td>1485.0</td>\n",
       "      <td>121.0</td>\n",
       "      <td>16.37</td>\n",
       "    </tr>\n",
       "    <tr>\n",
       "      <th>4</th>\n",
       "      <td>Albania</td>\n",
       "      <td>Soybeans</td>\n",
       "      <td>1990</td>\n",
       "      <td>7000</td>\n",
       "      <td>1485.0</td>\n",
       "      <td>121.0</td>\n",
       "      <td>16.37</td>\n",
       "    </tr>\n",
       "  </tbody>\n",
       "</table>\n",
       "</div>"
      ],
      "text/plain": [
       "      Area         Item  Year  hg/ha_yield  average_rain_fall_mm_per_year  \\\n",
       "0  Albania        Maize  1990        36613                         1485.0   \n",
       "1  Albania     Potatoes  1990        66667                         1485.0   \n",
       "2  Albania  Rice, paddy  1990        23333                         1485.0   \n",
       "3  Albania      Sorghum  1990        12500                         1485.0   \n",
       "4  Albania     Soybeans  1990         7000                         1485.0   \n",
       "\n",
       "   pesticides_tonnes  avg_temp  \n",
       "0              121.0     16.37  \n",
       "1              121.0     16.37  \n",
       "2              121.0     16.37  \n",
       "3              121.0     16.37  \n",
       "4              121.0     16.37  "
      ]
     },
     "execution_count": 9,
     "metadata": {},
     "output_type": "execute_result"
    }
   ],
   "source": [
    "df.head()"
   ]
  },
  {
   "cell_type": "code",
   "execution_count": 10,
   "id": "604948cf",
   "metadata": {},
   "outputs": [
    {
     "data": {
      "text/plain": [
       "(25932, 7)"
      ]
     },
     "execution_count": 10,
     "metadata": {},
     "output_type": "execute_result"
    }
   ],
   "source": [
    "df.shape"
   ]
  },
  {
   "cell_type": "code",
   "execution_count": 11,
   "id": "36092c87",
   "metadata": {},
   "outputs": [
    {
     "data": {
      "text/plain": [
       "Index(['Area', 'Item', 'Year', 'hg/ha_yield', 'average_rain_fall_mm_per_year',\n",
       "       'pesticides_tonnes', 'avg_temp'],\n",
       "      dtype='object')"
      ]
     },
     "execution_count": 11,
     "metadata": {},
     "output_type": "execute_result"
    }
   ],
   "source": [
    "df.columns"
   ]
  },
  {
   "cell_type": "code",
   "execution_count": 12,
   "id": "8be408b4",
   "metadata": {},
   "outputs": [
    {
     "data": {
      "text/plain": [
       "Area                              object\n",
       "Item                              object\n",
       "Year                               int64\n",
       "hg/ha_yield                        int64\n",
       "average_rain_fall_mm_per_year    float64\n",
       "pesticides_tonnes                float64\n",
       "avg_temp                         float64\n",
       "dtype: object"
      ]
     },
     "execution_count": 12,
     "metadata": {},
     "output_type": "execute_result"
    }
   ],
   "source": [
    "df.dtypes"
   ]
  },
  {
   "cell_type": "code",
   "execution_count": 13,
   "id": "4dcee5c0",
   "metadata": {},
   "outputs": [
    {
     "data": {
      "text/html": [
       "<div>\n",
       "<style scoped>\n",
       "    .dataframe tbody tr th:only-of-type {\n",
       "        vertical-align: middle;\n",
       "    }\n",
       "\n",
       "    .dataframe tbody tr th {\n",
       "        vertical-align: top;\n",
       "    }\n",
       "\n",
       "    .dataframe thead th {\n",
       "        text-align: right;\n",
       "    }\n",
       "</style>\n",
       "<table border=\"1\" class=\"dataframe\">\n",
       "  <thead>\n",
       "    <tr style=\"text-align: right;\">\n",
       "      <th></th>\n",
       "      <th>Year</th>\n",
       "      <th>hg/ha_yield</th>\n",
       "      <th>average_rain_fall_mm_per_year</th>\n",
       "      <th>pesticides_tonnes</th>\n",
       "      <th>avg_temp</th>\n",
       "    </tr>\n",
       "  </thead>\n",
       "  <tbody>\n",
       "    <tr>\n",
       "      <th>Year</th>\n",
       "      <td>1.000000</td>\n",
       "      <td>0.091327</td>\n",
       "      <td>-0.006423</td>\n",
       "      <td>0.135127</td>\n",
       "      <td>0.013701</td>\n",
       "    </tr>\n",
       "    <tr>\n",
       "      <th>hg/ha_yield</th>\n",
       "      <td>0.091327</td>\n",
       "      <td>1.000000</td>\n",
       "      <td>-0.004067</td>\n",
       "      <td>0.065523</td>\n",
       "      <td>-0.110400</td>\n",
       "    </tr>\n",
       "    <tr>\n",
       "      <th>average_rain_fall_mm_per_year</th>\n",
       "      <td>-0.006423</td>\n",
       "      <td>-0.004067</td>\n",
       "      <td>1.000000</td>\n",
       "      <td>0.161483</td>\n",
       "      <td>0.333694</td>\n",
       "    </tr>\n",
       "    <tr>\n",
       "      <th>pesticides_tonnes</th>\n",
       "      <td>0.135127</td>\n",
       "      <td>0.065523</td>\n",
       "      <td>0.161483</td>\n",
       "      <td>1.000000</td>\n",
       "      <td>0.045577</td>\n",
       "    </tr>\n",
       "    <tr>\n",
       "      <th>avg_temp</th>\n",
       "      <td>0.013701</td>\n",
       "      <td>-0.110400</td>\n",
       "      <td>0.333694</td>\n",
       "      <td>0.045577</td>\n",
       "      <td>1.000000</td>\n",
       "    </tr>\n",
       "  </tbody>\n",
       "</table>\n",
       "</div>"
      ],
      "text/plain": [
       "                                   Year  hg/ha_yield  \\\n",
       "Year                           1.000000     0.091327   \n",
       "hg/ha_yield                    0.091327     1.000000   \n",
       "average_rain_fall_mm_per_year -0.006423    -0.004067   \n",
       "pesticides_tonnes              0.135127     0.065523   \n",
       "avg_temp                       0.013701    -0.110400   \n",
       "\n",
       "                               average_rain_fall_mm_per_year  \\\n",
       "Year                                               -0.006423   \n",
       "hg/ha_yield                                        -0.004067   \n",
       "average_rain_fall_mm_per_year                       1.000000   \n",
       "pesticides_tonnes                                   0.161483   \n",
       "avg_temp                                            0.333694   \n",
       "\n",
       "                               pesticides_tonnes  avg_temp  \n",
       "Year                                    0.135127  0.013701  \n",
       "hg/ha_yield                             0.065523 -0.110400  \n",
       "average_rain_fall_mm_per_year           0.161483  0.333694  \n",
       "pesticides_tonnes                       1.000000  0.045577  \n",
       "avg_temp                                0.045577  1.000000  "
      ]
     },
     "execution_count": 13,
     "metadata": {},
     "output_type": "execute_result"
    }
   ],
   "source": [
    "corr = df.corr(numeric_only=True)\n",
    "corr"
   ]
  },
  {
   "cell_type": "code",
   "execution_count": 14,
   "id": "675e11c9",
   "metadata": {},
   "outputs": [
    {
     "data": {
      "image/png": "[encoded data removed]",
      "text/plain": [
       "<Figure size 640x480 with 2 Axes>"
      ]
     },
     "metadata": {},
     "output_type": "display_data"
    }
   ],
   "source": [
    "sns.heatmap(corr, annot=True, cbar=True, cmap='RdBu')\n",
    "plt.show()"
   ]
  },
  {
   "cell_type": "code",
   "execution_count": 15,
   "id": "0ec03151",
   "metadata": {},
   "outputs": [
    {
     "data": {
      "image/png": "[encoded data removed]",
      "text/plain": [
       "<Figure size 1000x2000 with 1 Axes>"
      ]
     },
     "metadata": {},
     "output_type": "display_data"
    }
   ],
   "source": [
    "plt.figure(figsize=(10,20))\n",
    "sns.countplot(y = df['Area'])\n",
    "plt.show()"
   ]
  },
  {
   "cell_type": "code",
   "execution_count": 16,
   "id": "3efeb829",
   "metadata": {},
   "outputs": [
    {
     "data": {
      "text/plain": [
       "101"
      ]
     },
     "execution_count": 16,
     "metadata": {},
     "output_type": "execute_result"
    }
   ],
   "source": [
    "df['Area'].nunique()\n"
   ]
  },
  {
   "cell_type": "code",
   "execution_count": 17,
   "id": "8fdd4d72",
   "metadata": {},
   "outputs": [],
   "source": [
    "country = df['Area'].unique()\n",
    "yield_per_Area = []\n",
    "\n",
    "for state in country:\n",
    "    yield_per_Area.append(df[df['Area']==state]['hg/ha_yield'].sum())"
   ]
  },
  {
   "cell_type": "code",
   "execution_count": 18,
   "id": "68043f74",
   "metadata": {},
   "outputs": [
    {
     "data": {
      "text/plain": [
       "[np.int64(5711536),\n",
       " np.int64(6711464),\n",
       " np.int64(5722563),\n",
       " np.int64(32864032),\n",
       " np.int64(4524100),\n",
       " np.int64(109111062),\n",
       " np.int64(10852258),\n",
       " np.int64(4608380),\n",
       " np.int64(4384717),\n",
       " np.int64(4443889),\n",
       " np.int64(7720159),\n",
       " np.int64(4704812),\n",
       " np.int64(8442270),\n",
       " np.int64(470651),\n",
       " np.int64(136340329),\n",
       " np.int64(6263075),\n",
       " np.int64(6083337),\n",
       " np.int64(7031146),\n",
       " np.int64(10717883),\n",
       " np.int64(34706922),\n",
       " np.int64(4255627),\n",
       " np.int64(20561214),\n",
       " np.int64(26927138),\n",
       " np.int64(6083167),\n",
       " np.int64(10701651),\n",
       " np.int64(25312166),\n",
       " np.int64(21315591),\n",
       " np.int64(36828848),\n",
       " np.int64(16855944),\n",
       " np.int64(1452416),\n",
       " np.int64(3595638),\n",
       " np.int64(6210668),\n",
       " np.int64(15790618),\n",
       " np.int64(38780463),\n",
       " np.int64(9260371),\n",
       " np.int64(14571925),\n",
       " np.int64(16508723),\n",
       " np.int64(7975743),\n",
       " np.int64(8361103),\n",
       " np.int64(8619194),\n",
       " np.int64(10920131),\n",
       " np.int64(8824110),\n",
       " np.int64(274219558),\n",
       " np.int64(68067328),\n",
       " np.int64(10984722),\n",
       " np.int64(9104030),\n",
       " np.int64(32280700),\n",
       " np.int64(19698007),\n",
       " np.int64(100924145),\n",
       " np.int64(9965212),\n",
       " np.int64(14391737),\n",
       " np.int64(3698588),\n",
       " np.int64(6956804),\n",
       " np.int64(4258932),\n",
       " np.int64(9016288),\n",
       " np.int64(4174348),\n",
       " np.int64(6103523),\n",
       " np.int64(8346715),\n",
       " np.int64(7934982),\n",
       " np.int64(15106720),\n",
       " np.int64(4465841),\n",
       " np.int64(12684212),\n",
       " np.int64(113698872),\n",
       " np.int64(1645100),\n",
       " np.int64(22173010),\n",
       " np.int64(6964027),\n",
       " np.int64(3165475),\n",
       " np.int64(4113713),\n",
       " np.int64(14086433),\n",
       " np.int64(17657728),\n",
       " np.int64(12819227),\n",
       " np.int64(12316327),\n",
       " np.int64(6721305),\n",
       " np.int64(49264956),\n",
       " np.int64(10729929),\n",
       " np.int64(15201910),\n",
       " np.int64(6564711),\n",
       " np.int64(12154347),\n",
       " np.int64(5995626),\n",
       " np.int64(6006156),\n",
       " np.int64(7741053),\n",
       " np.int64(15171886),\n",
       " np.int64(10342677),\n",
       " np.int64(7197013),\n",
       " np.int64(30999849),\n",
       " np.int64(46773540),\n",
       " np.int64(11217741),\n",
       " np.int64(1896346),\n",
       " np.int64(14786468),\n",
       " np.int64(8620653),\n",
       " np.int64(13336346),\n",
       " np.int64(6295210),\n",
       " np.int64(9511720),\n",
       " np.int64(3724246),\n",
       " np.int64(52263950),\n",
       " np.int64(7494314),\n",
       " np.int64(5496901),\n",
       " np.int64(44335992),\n",
       " np.int64(9539820),\n",
       " np.int64(7254311),\n",
       " np.int64(7408629)]"
      ]
     },
     "execution_count": 18,
     "metadata": {},
     "output_type": "execute_result"
    }
   ],
   "source": [
    "yield_per_Area"
   ]
  },
  {
   "cell_type": "code",
   "execution_count": 19,
   "id": "5f3da487",
   "metadata": {},
   "outputs": [
    {
     "data": {
      "text/plain": [
       "10"
      ]
     },
     "execution_count": 19,
     "metadata": {},
     "output_type": "execute_result"
    }
   ],
   "source": [
    "df['Item'].nunique()"
   ]
  },
  {
   "cell_type": "code",
   "execution_count": 20,
   "id": "e97f9b0f",
   "metadata": {},
   "outputs": [
    {
     "data": {
      "image/png": "[encoded data removed]",
      "text/plain": [
       "<Figure size 500x300 with 1 Axes>"
      ]
     },
     "metadata": {},
     "output_type": "display_data"
    }
   ],
   "source": [
    "plt.figure(figsize=(5, 3))\n",
    "sns.countplot(y=df['Item'])\n",
    "plt.show()"
   ]
  },
  {
   "cell_type": "code",
   "execution_count": 21,
   "id": "b8527603",
   "metadata": {},
   "outputs": [
    {
     "data": {
      "text/html": [
       "<div>\n",
       "<style scoped>\n",
       "    .dataframe tbody tr th:only-of-type {\n",
       "        vertical-align: middle;\n",
       "    }\n",
       "\n",
       "    .dataframe tbody tr th {\n",
       "        vertical-align: top;\n",
       "    }\n",
       "\n",
       "    .dataframe thead th {\n",
       "        text-align: right;\n",
       "    }\n",
       "</style>\n",
       "<table border=\"1\" class=\"dataframe\">\n",
       "  <thead>\n",
       "    <tr style=\"text-align: right;\">\n",
       "      <th></th>\n",
       "      <th>Area</th>\n",
       "      <th>Item</th>\n",
       "      <th>Year</th>\n",
       "      <th>hg/ha_yield</th>\n",
       "      <th>average_rain_fall_mm_per_year</th>\n",
       "      <th>pesticides_tonnes</th>\n",
       "      <th>avg_temp</th>\n",
       "    </tr>\n",
       "  </thead>\n",
       "  <tbody>\n",
       "    <tr>\n",
       "      <th>0</th>\n",
       "      <td>Albania</td>\n",
       "      <td>Maize</td>\n",
       "      <td>1990</td>\n",
       "      <td>36613</td>\n",
       "      <td>1485.0</td>\n",
       "      <td>121.0</td>\n",
       "      <td>16.37</td>\n",
       "    </tr>\n",
       "    <tr>\n",
       "      <th>1</th>\n",
       "      <td>Albania</td>\n",
       "      <td>Potatoes</td>\n",
       "      <td>1990</td>\n",
       "      <td>66667</td>\n",
       "      <td>1485.0</td>\n",
       "      <td>121.0</td>\n",
       "      <td>16.37</td>\n",
       "    </tr>\n",
       "    <tr>\n",
       "      <th>2</th>\n",
       "      <td>Albania</td>\n",
       "      <td>Rice, paddy</td>\n",
       "      <td>1990</td>\n",
       "      <td>23333</td>\n",
       "      <td>1485.0</td>\n",
       "      <td>121.0</td>\n",
       "      <td>16.37</td>\n",
       "    </tr>\n",
       "    <tr>\n",
       "      <th>3</th>\n",
       "      <td>Albania</td>\n",
       "      <td>Sorghum</td>\n",
       "      <td>1990</td>\n",
       "      <td>12500</td>\n",
       "      <td>1485.0</td>\n",
       "      <td>121.0</td>\n",
       "      <td>16.37</td>\n",
       "    </tr>\n",
       "    <tr>\n",
       "      <th>4</th>\n",
       "      <td>Albania</td>\n",
       "      <td>Soybeans</td>\n",
       "      <td>1990</td>\n",
       "      <td>7000</td>\n",
       "      <td>1485.0</td>\n",
       "      <td>121.0</td>\n",
       "      <td>16.37</td>\n",
       "    </tr>\n",
       "  </tbody>\n",
       "</table>\n",
       "</div>"
      ],
      "text/plain": [
       "      Area         Item  Year  hg/ha_yield  average_rain_fall_mm_per_year  \\\n",
       "0  Albania        Maize  1990        36613                         1485.0   \n",
       "1  Albania     Potatoes  1990        66667                         1485.0   \n",
       "2  Albania  Rice, paddy  1990        23333                         1485.0   \n",
       "3  Albania      Sorghum  1990        12500                         1485.0   \n",
       "4  Albania     Soybeans  1990         7000                         1485.0   \n",
       "\n",
       "   pesticides_tonnes  avg_temp  \n",
       "0              121.0     16.37  \n",
       "1              121.0     16.37  \n",
       "2              121.0     16.37  \n",
       "3              121.0     16.37  \n",
       "4              121.0     16.37  "
      ]
     },
     "execution_count": 21,
     "metadata": {},
     "output_type": "execute_result"
    }
   ],
   "source": [
    "df.head()"
   ]
  },
  {
   "cell_type": "code",
   "execution_count": 22,
   "id": "1f31012c",
   "metadata": {},
   "outputs": [
    {
     "data": {
      "text/html": [
       "<div>\n",
       "<style scoped>\n",
       "    .dataframe tbody tr th:only-of-type {\n",
       "        vertical-align: middle;\n",
       "    }\n",
       "\n",
       "    .dataframe tbody tr th {\n",
       "        vertical-align: top;\n",
       "    }\n",
       "\n",
       "    .dataframe thead th {\n",
       "        text-align: right;\n",
       "    }\n",
       "</style>\n",
       "<table border=\"1\" class=\"dataframe\">\n",
       "  <thead>\n",
       "    <tr style=\"text-align: right;\">\n",
       "      <th></th>\n",
       "      <th>Year</th>\n",
       "      <th>average_rain_fall_mm_per_year</th>\n",
       "      <th>pesticides_tonnes</th>\n",
       "      <th>avg_temp</th>\n",
       "      <th>Area</th>\n",
       "      <th>Item</th>\n",
       "      <th>hg/ha_yield</th>\n",
       "    </tr>\n",
       "  </thead>\n",
       "  <tbody>\n",
       "    <tr>\n",
       "      <th>0</th>\n",
       "      <td>1990</td>\n",
       "      <td>1485.0</td>\n",
       "      <td>121.0</td>\n",
       "      <td>16.37</td>\n",
       "      <td>Albania</td>\n",
       "      <td>Maize</td>\n",
       "      <td>36613</td>\n",
       "    </tr>\n",
       "    <tr>\n",
       "      <th>1</th>\n",
       "      <td>1990</td>\n",
       "      <td>1485.0</td>\n",
       "      <td>121.0</td>\n",
       "      <td>16.37</td>\n",
       "      <td>Albania</td>\n",
       "      <td>Potatoes</td>\n",
       "      <td>66667</td>\n",
       "    </tr>\n",
       "    <tr>\n",
       "      <th>2</th>\n",
       "      <td>1990</td>\n",
       "      <td>1485.0</td>\n",
       "      <td>121.0</td>\n",
       "      <td>16.37</td>\n",
       "      <td>Albania</td>\n",
       "      <td>Rice, paddy</td>\n",
       "      <td>23333</td>\n",
       "    </tr>\n",
       "    <tr>\n",
       "      <th>3</th>\n",
       "      <td>1990</td>\n",
       "      <td>1485.0</td>\n",
       "      <td>121.0</td>\n",
       "      <td>16.37</td>\n",
       "      <td>Albania</td>\n",
       "      <td>Sorghum</td>\n",
       "      <td>12500</td>\n",
       "    </tr>\n",
       "    <tr>\n",
       "      <th>4</th>\n",
       "      <td>1990</td>\n",
       "      <td>1485.0</td>\n",
       "      <td>121.0</td>\n",
       "      <td>16.37</td>\n",
       "      <td>Albania</td>\n",
       "      <td>Soybeans</td>\n",
       "      <td>7000</td>\n",
       "    </tr>\n",
       "  </tbody>\n",
       "</table>\n",
       "</div>"
      ],
      "text/plain": [
       "   Year  average_rain_fall_mm_per_year  pesticides_tonnes  avg_temp     Area  \\\n",
       "0  1990                         1485.0              121.0     16.37  Albania   \n",
       "1  1990                         1485.0              121.0     16.37  Albania   \n",
       "2  1990                         1485.0              121.0     16.37  Albania   \n",
       "3  1990                         1485.0              121.0     16.37  Albania   \n",
       "4  1990                         1485.0              121.0     16.37  Albania   \n",
       "\n",
       "          Item  hg/ha_yield  \n",
       "0        Maize        36613  \n",
       "1     Potatoes        66667  \n",
       "2  Rice, paddy        23333  \n",
       "3      Sorghum        12500  \n",
       "4     Soybeans         7000  "
      ]
     },
     "execution_count": 22,
     "metadata": {},
     "output_type": "execute_result"
    }
   ],
   "source": [
    "col = ['Year', 'average_rain_fall_mm_per_year', 'pesticides_tonnes', 'avg_temp', 'Area', 'Item', 'hg/ha_yield']\n",
    "\n",
    "df = df[col]\n",
    "\n",
    "df.head()"
   ]
  },
  {
   "cell_type": "code",
   "execution_count": 23,
   "id": "d0f82944",
   "metadata": {},
   "outputs": [],
   "source": [
    "X = df.drop('hg/ha_yield', axis=1)\n",
    "y = df['hg/ha_yield']"
   ]
  },
  {
   "cell_type": "code",
   "execution_count": 24,
   "id": "5c83cd3a",
   "metadata": {},
   "outputs": [],
   "source": [
    "from sklearn.model_selection import train_test_split\n",
    "X_train, X_test, y_train, y_test = train_test_split(X,y, test_size=0.2, random_state=0, shuffle=True)"
   ]
  },
  {
   "cell_type": "code",
   "execution_count": 25,
   "id": "e34bee48",
   "metadata": {},
   "outputs": [],
   "source": [
    "from sklearn.preprocessing import OneHotEncoder\n",
    "from sklearn.preprocessing import StandardScaler\n",
    "from sklearn.compose import ColumnTransformer\n",
    "\n",
    "one = OneHotEncoder(drop='first')\n",
    "scale = StandardScaler()\n",
    "\n",
    "preprocesser = ColumnTransformer(\n",
    "    transformers= [\n",
    "        ('StandardScale', scale, [0,1,2,3]),\n",
    "        ('OneHotEncode', one, [4,5])\n",
    "    ], remainder='passthrough'\n",
    ")"
   ]
  },
  {
   "cell_type": "code",
   "execution_count": 26,
   "id": "4a01758a",
   "metadata": {},
   "outputs": [],
   "source": [
    "X_train_dummy = preprocesser.fit_transform(X_train)\n",
    "X_test_dummy = preprocesser.fit_transform(X_test)"
   ]
  },
  {
   "cell_type": "code",
   "execution_count": 27,
   "id": "0d4390a7",
   "metadata": {},
   "outputs": [
    {
     "data": {
      "text/plain": [
       "array(['StandardScale__Year',\n",
       "       'StandardScale__average_rain_fall_mm_per_year',\n",
       "       'StandardScale__pesticides_tonnes', 'StandardScale__avg_temp',\n",
       "       'OneHotEncode__Area_Algeria', 'OneHotEncode__Area_Angola',\n",
       "       'OneHotEncode__Area_Argentina', 'OneHotEncode__Area_Armenia',\n",
       "       'OneHotEncode__Area_Australia', 'OneHotEncode__Area_Austria',\n",
       "       'OneHotEncode__Area_Azerbaijan', 'OneHotEncode__Area_Bahamas',\n",
       "       'OneHotEncode__Area_Bahrain', 'OneHotEncode__Area_Bangladesh',\n",
       "       'OneHotEncode__Area_Belarus', 'OneHotEncode__Area_Belgium',\n",
       "       'OneHotEncode__Area_Botswana', 'OneHotEncode__Area_Brazil',\n",
       "       'OneHotEncode__Area_Bulgaria', 'OneHotEncode__Area_Burkina Faso',\n",
       "       'OneHotEncode__Area_Burundi', 'OneHotEncode__Area_Cameroon',\n",
       "       'OneHotEncode__Area_Canada',\n",
       "       'OneHotEncode__Area_Central African Republic',\n",
       "       'OneHotEncode__Area_Chile', 'OneHotEncode__Area_Colombia',\n",
       "       'OneHotEncode__Area_Croatia', 'OneHotEncode__Area_Denmark',\n",
       "       'OneHotEncode__Area_Dominican Republic',\n",
       "       'OneHotEncode__Area_Ecuador', 'OneHotEncode__Area_Egypt',\n",
       "       'OneHotEncode__Area_El Salvador', 'OneHotEncode__Area_Eritrea',\n",
       "       'OneHotEncode__Area_Estonia', 'OneHotEncode__Area_Finland',\n",
       "       'OneHotEncode__Area_France', 'OneHotEncode__Area_Germany',\n",
       "       'OneHotEncode__Area_Ghana', 'OneHotEncode__Area_Greece',\n",
       "       'OneHotEncode__Area_Guatemala', 'OneHotEncode__Area_Guinea',\n",
       "       'OneHotEncode__Area_Guyana', 'OneHotEncode__Area_Haiti',\n",
       "       'OneHotEncode__Area_Honduras', 'OneHotEncode__Area_Hungary',\n",
       "       'OneHotEncode__Area_India', 'OneHotEncode__Area_Indonesia',\n",
       "       'OneHotEncode__Area_Iraq', 'OneHotEncode__Area_Ireland',\n",
       "       'OneHotEncode__Area_Italy', 'OneHotEncode__Area_Jamaica',\n",
       "       'OneHotEncode__Area_Japan', 'OneHotEncode__Area_Kazakhstan',\n",
       "       'OneHotEncode__Area_Kenya', 'OneHotEncode__Area_Latvia',\n",
       "       'OneHotEncode__Area_Lebanon', 'OneHotEncode__Area_Lesotho',\n",
       "       'OneHotEncode__Area_Libya', 'OneHotEncode__Area_Lithuania',\n",
       "       'OneHotEncode__Area_Madagascar', 'OneHotEncode__Area_Malawi',\n",
       "       'OneHotEncode__Area_Malaysia', 'OneHotEncode__Area_Mali',\n",
       "       'OneHotEncode__Area_Mauritania', 'OneHotEncode__Area_Mauritius',\n",
       "       'OneHotEncode__Area_Mexico', 'OneHotEncode__Area_Montenegro',\n",
       "       'OneHotEncode__Area_Morocco', 'OneHotEncode__Area_Mozambique',\n",
       "       'OneHotEncode__Area_Namibia', 'OneHotEncode__Area_Nepal',\n",
       "       'OneHotEncode__Area_Netherlands', 'OneHotEncode__Area_New Zealand',\n",
       "       'OneHotEncode__Area_Nicaragua', 'OneHotEncode__Area_Niger',\n",
       "       'OneHotEncode__Area_Norway', 'OneHotEncode__Area_Pakistan',\n",
       "       'OneHotEncode__Area_Papua New Guinea', 'OneHotEncode__Area_Peru',\n",
       "       'OneHotEncode__Area_Poland', 'OneHotEncode__Area_Portugal',\n",
       "       'OneHotEncode__Area_Qatar', 'OneHotEncode__Area_Romania',\n",
       "       'OneHotEncode__Area_Rwanda', 'OneHotEncode__Area_Saudi Arabia',\n",
       "       'OneHotEncode__Area_Senegal', 'OneHotEncode__Area_Slovenia',\n",
       "       'OneHotEncode__Area_South Africa', 'OneHotEncode__Area_Spain',\n",
       "       'OneHotEncode__Area_Sri Lanka', 'OneHotEncode__Area_Sudan',\n",
       "       'OneHotEncode__Area_Suriname', 'OneHotEncode__Area_Sweden',\n",
       "       'OneHotEncode__Area_Switzerland', 'OneHotEncode__Area_Tajikistan',\n",
       "       'OneHotEncode__Area_Thailand', 'OneHotEncode__Area_Tunisia',\n",
       "       'OneHotEncode__Area_Turkey', 'OneHotEncode__Area_Uganda',\n",
       "       'OneHotEncode__Area_Ukraine', 'OneHotEncode__Area_United Kingdom',\n",
       "       'OneHotEncode__Area_Uruguay', 'OneHotEncode__Area_Zambia',\n",
       "       'OneHotEncode__Area_Zimbabwe', 'OneHotEncode__Item_Maize',\n",
       "       'OneHotEncode__Item_Plantains and others',\n",
       "       'OneHotEncode__Item_Potatoes', 'OneHotEncode__Item_Rice, paddy',\n",
       "       'OneHotEncode__Item_Sorghum', 'OneHotEncode__Item_Soybeans',\n",
       "       'OneHotEncode__Item_Sweet potatoes', 'OneHotEncode__Item_Wheat',\n",
       "       'OneHotEncode__Item_Yams'], dtype=object)"
      ]
     },
     "execution_count": 27,
     "metadata": {},
     "output_type": "execute_result"
    }
   ],
   "source": [
    "preprocesser.get_feature_names_out()"
   ]
  },
  {
   "cell_type": "code",
   "execution_count": 28,
   "id": "58d323b3",
   "metadata": {},
   "outputs": [
    {
     "name": "stdout",
     "output_type": "stream",
     "text": [
      "linear regression: 'mae': 29897.28138119728, 'r2': 0.747273256799154\n"
     ]
    },
    {
     "name": "stderr",
     "output_type": "stream",
     "text": [
      "c:\\Users\\user\\AppData\\Local\\Programs\\Python\\Python313\\Lib\\site-packages\\sklearn\\linear_model\\_coordinate_descent.py:656: ConvergenceWarning: Objective did not converge. You might want to increase the number of iterations. Duality gap: 67280771830.03516, tolerance: 14848622817.505228\n",
      "  model = cd_fast.sparse_enet_coordinate_descent(\n"
     ]
    },
    {
     "name": "stdout",
     "output_type": "stream",
     "text": [
      "lasso: 'mae': 29883.830652070385, 'r2': 0.7472938374682895\n",
      "ridge: 'mae': 29852.956963817032, 'r2': 0.7472625765869877\n",
      "KNN: 'mae': 4679.181530749952, 'r2': 0.9846297814151388\n",
      "dtr: 'mae': 5226.916714864084, 'r2': 0.9726460699518754\n"
     ]
    }
   ],
   "source": [
    "from sklearn.linear_model import LinearRegression, Lasso, Ridge\n",
    "from sklearn.neighbors import KNeighborsRegressor\n",
    "from sklearn.tree import DecisionTreeRegressor\n",
    "from sklearn.metrics import mean_absolute_error, r2_score\n",
    "\n",
    "models = {\n",
    "    'linear regression' : LinearRegression(),\n",
    "    'lasso' : Lasso(),\n",
    "    'ridge' : Ridge(),\n",
    "    'KNN' : KNeighborsRegressor(),\n",
    "    'dtr' : DecisionTreeRegressor()\n",
    "}\n",
    "\n",
    "for name, md in models.items():\n",
    "    md.fit(X_train_dummy, y_train)\n",
    "    y_predict = md.predict(X_test_dummy)\n",
    "    print(f\"{name}: 'mae': {mean_absolute_error(y_test, y_predict)}, 'r2': {r2_score(y_test, y_predict)}\")"
   ]
  },
  {
   "cell_type": "code",
   "execution_count": 29,
   "id": "cd8b1e29",
   "metadata": {},
   "outputs": [],
   "source": [
    "dtr = DecisionTreeRegressor()\n",
    "dtr.fit(X_train_dummy, y_train)\n",
    "dtr_predict = dtr.predict(X_test_dummy)"
   ]
  },
  {
   "cell_type": "code",
   "execution_count": 30,
   "id": "37d958b1",
   "metadata": {},
   "outputs": [
    {
     "data": {
      "text/plain": [
       "array([35286., 22814., 19295., ..., 23359., 34879., 79048.], shape=(5187,))"
      ]
     },
     "execution_count": 30,
     "metadata": {},
     "output_type": "execute_result"
    }
   ],
   "source": [
    "dtr_predict"
   ]
  },
  {
   "cell_type": "code",
   "execution_count": 31,
   "id": "293b6650",
   "metadata": {},
   "outputs": [],
   "source": [
    "# Predictive system"
   ]
  },
  {
   "cell_type": "code",
   "execution_count": 32,
   "id": "7d77100b",
   "metadata": {},
   "outputs": [
    {
     "data": {
      "text/html": [
       "<div>\n",
       "<style scoped>\n",
       "    .dataframe tbody tr th:only-of-type {\n",
       "        vertical-align: middle;\n",
       "    }\n",
       "\n",
       "    .dataframe tbody tr th {\n",
       "        vertical-align: top;\n",
       "    }\n",
       "\n",
       "    .dataframe thead th {\n",
       "        text-align: right;\n",
       "    }\n",
       "</style>\n",
       "<table border=\"1\" class=\"dataframe\">\n",
       "  <thead>\n",
       "    <tr style=\"text-align: right;\">\n",
       "      <th></th>\n",
       "      <th>Year</th>\n",
       "      <th>average_rain_fall_mm_per_year</th>\n",
       "      <th>pesticides_tonnes</th>\n",
       "      <th>avg_temp</th>\n",
       "      <th>Area</th>\n",
       "      <th>Item</th>\n",
       "      <th>hg/ha_yield</th>\n",
       "    </tr>\n",
       "  </thead>\n",
       "  <tbody>\n",
       "    <tr>\n",
       "      <th>0</th>\n",
       "      <td>1990</td>\n",
       "      <td>1485.0</td>\n",
       "      <td>121.0</td>\n",
       "      <td>16.37</td>\n",
       "      <td>Albania</td>\n",
       "      <td>Maize</td>\n",
       "      <td>36613</td>\n",
       "    </tr>\n",
       "    <tr>\n",
       "      <th>1</th>\n",
       "      <td>1990</td>\n",
       "      <td>1485.0</td>\n",
       "      <td>121.0</td>\n",
       "      <td>16.37</td>\n",
       "      <td>Albania</td>\n",
       "      <td>Potatoes</td>\n",
       "      <td>66667</td>\n",
       "    </tr>\n",
       "    <tr>\n",
       "      <th>2</th>\n",
       "      <td>1990</td>\n",
       "      <td>1485.0</td>\n",
       "      <td>121.0</td>\n",
       "      <td>16.37</td>\n",
       "      <td>Albania</td>\n",
       "      <td>Rice, paddy</td>\n",
       "      <td>23333</td>\n",
       "    </tr>\n",
       "    <tr>\n",
       "      <th>3</th>\n",
       "      <td>1990</td>\n",
       "      <td>1485.0</td>\n",
       "      <td>121.0</td>\n",
       "      <td>16.37</td>\n",
       "      <td>Albania</td>\n",
       "      <td>Sorghum</td>\n",
       "      <td>12500</td>\n",
       "    </tr>\n",
       "    <tr>\n",
       "      <th>4</th>\n",
       "      <td>1990</td>\n",
       "      <td>1485.0</td>\n",
       "      <td>121.0</td>\n",
       "      <td>16.37</td>\n",
       "      <td>Albania</td>\n",
       "      <td>Soybeans</td>\n",
       "      <td>7000</td>\n",
       "    </tr>\n",
       "  </tbody>\n",
       "</table>\n",
       "</div>"
      ],
      "text/plain": [
       "   Year  average_rain_fall_mm_per_year  pesticides_tonnes  avg_temp     Area  \\\n",
       "0  1990                         1485.0              121.0     16.37  Albania   \n",
       "1  1990                         1485.0              121.0     16.37  Albania   \n",
       "2  1990                         1485.0              121.0     16.37  Albania   \n",
       "3  1990                         1485.0              121.0     16.37  Albania   \n",
       "4  1990                         1485.0              121.0     16.37  Albania   \n",
       "\n",
       "          Item  hg/ha_yield  \n",
       "0        Maize        36613  \n",
       "1     Potatoes        66667  \n",
       "2  Rice, paddy        23333  \n",
       "3      Sorghum        12500  \n",
       "4     Soybeans         7000  "
      ]
     },
     "execution_count": 32,
     "metadata": {},
     "output_type": "execute_result"
    }
   ],
   "source": [
    "df.head()"
   ]
  },
  {
   "cell_type": "code",
   "execution_count": 33,
   "id": "c2b56816",
   "metadata": {},
   "outputs": [
    {
     "data": {
      "text/plain": [
       "Year                               int64\n",
       "average_rain_fall_mm_per_year    float64\n",
       "pesticides_tonnes                float64\n",
       "avg_temp                         float64\n",
       "Area                              object\n",
       "Item                              object\n",
       "hg/ha_yield                        int64\n",
       "dtype: object"
      ]
     },
     "execution_count": 33,
     "metadata": {},
     "output_type": "execute_result"
    }
   ],
   "source": [
    "df.dtypes"
   ]
  },
  {
   "cell_type": "code",
   "execution_count": null,
   "id": "36347ed6",
   "metadata": {},
   "outputs": [],
   "source": [
    "def prediction(Year, average_rain_fall_mm_per_year, pesticides_tonnes, avg_temp, Area, Item):\n",
    "    features = np.array([[Year, average_rain_fall_mm_per_year, pesticides_tonnes, avg_temp, Area, Item]])\n",
    "    transform_features = preprocesser.transform(features)\n",
    "    predictive_yield = dtr.predict(transform_features).reshape(-1,1)\n",
    "    return predictive_yield[0][0]"
   ]
  },
  {
   "cell_type": "code",
   "execution_count": 35,
   "id": "727083f6",
   "metadata": {},
   "outputs": [
    {
     "name": "stderr",
     "output_type": "stream",
     "text": [
      "c:\\Users\\user\\AppData\\Local\\Programs\\Python\\Python313\\Lib\\site-packages\\sklearn\\utils\\validation.py:2739: UserWarning: X does not have valid feature names, but StandardScaler was fitted with feature names\n",
      "  warnings.warn(\n",
      "c:\\Users\\user\\AppData\\Local\\Programs\\Python\\Python313\\Lib\\site-packages\\sklearn\\utils\\validation.py:2739: UserWarning: X does not have valid feature names, but OneHotEncoder was fitted with feature names\n",
      "  warnings.warn(\n"
     ]
    }
   ],
   "source": [
    "result = prediction(1990,1485.0,121.0,16.37,\"Albania\",\"Maize\")"
   ]
  },
  {
   "cell_type": "code",
   "execution_count": 36,
   "id": "371a0710",
   "metadata": {},
   "outputs": [
    {
     "data": {
      "text/plain": [
       "np.float64(36613.0)"
      ]
     },
     "execution_count": 36,
     "metadata": {},
     "output_type": "execute_result"
    }
   ],
   "source": [
    "result"
   ]
  },
  {
   "cell_type": "code",
   "execution_count": 37,
   "id": "02311d9b",
   "metadata": {},
   "outputs": [],
   "source": [
    "import pickle\n",
    "pickle.dump(dtr, open('dtr.pkl', 'wb'))\n",
    "pickle.dump(preprocesser, open('preprocesser.pkl', 'wb'))"
   ]
  }
 ],
 "metadata": {
  "kernelspec": {
   "display_name": "Python 3",
   "language": "python",
   "name": "python3"
  },
  "language_info": {
   "codemirror_mode": {
    "name": "ipython",
    "version": 3
   },
   "file_extension": ".py",
   "mimetype": "text/x-python",
   "name": "python",
   "nbconvert_exporter": "python",
   "pygments_lexer": "ipython3",
   "version": "3.13.2"
  }
 },
 "nbformat": 4,
 "nbformat_minor": 5
}
